{
 "cells": [
  {
   "cell_type": "markdown",
   "metadata": {},
   "source": [
    "# Complex source reconstruction using _starlets_ with point sources\n",
    "\n",
    "The complex source surface brightness is solved using sparsity constrains in starlets space, and the linear amplitude of point sources (lensed quasar images) are optimized through weight least square (as in *lenstronomy*)."
   ]
  },
  {
   "cell_type": "code",
   "execution_count": 1,
   "metadata": {},
   "outputs": [],
   "source": [
    "__author__ = 'aymgal'\n",
    "\n",
    "%matplotlib inline\n",
    "\n",
    "import matplotlib.pyplot as plt\n",
    "plt.rc('image', interpolation='none', origin='lower')\n",
    "\n",
    "import os\n",
    "import sys\n",
    "import copy\n",
    "import time\n",
    "import pprint\n",
    "import pickle as pkl\n",
    "import numpy as np\n",
    "import astropy.io.fits as pf\n",
    "from matplotlib.colors import LogNorm\n",
    "\n",
    "from lenstronomy.ImSim.image_model import ImageModel\n",
    "from lenstronomy.Data.imaging_data import ImageData\n",
    "from lenstronomy.Data.psf import PSF\n",
    "from lenstronomy.LensModel.lens_model import LensModel\n",
    "from lenstronomy.LightModel.light_model import LightModel\n",
    "from lenstronomy.PointSource.point_source import PointSource\n",
    "from lenstronomy.LensModel.Solver.lens_equation_solver import LensEquationSolver\n",
    "from lenstronomy.LensModel.lens_model_extensions import LensModelExtensions\n",
    "from lenstronomy.Util import kernel_util\n",
    "from lenstronomy.Util import param_util\n",
    "import lenstronomy.Util.image_util as image_util\n",
    "import lenstronomy.Util.util as lenstro_util\n",
    "from lenstronomy.Plots import plot_util\n",
    "\n",
    "from lenstronomy.ImSim.image_linear_solve import ImageLinearFit\n",
    "from slitronomy.Util.util import dirac_impulse\n",
    "from slitronomy.Util.plot_util import nice_colorbar\n",
    "from slitronomy.Util.mask_util import ImageMask\n",
    "\n",
    "subgrid_res_source = 3\n",
    "mock_psf_type = 'hst_j1537'  # 'gaussian' or 'hst_tinytim' or 'hst_j1537'\n",
    "\n",
    "np.random.seed(18)"
   ]
  },
  {
   "cell_type": "code",
   "execution_count": 2,
   "metadata": {},
   "outputs": [],
   "source": [
    "lin_scale = lambda x: x\n",
    "log_scale = lambda x: np.log10(x)\n",
    "sqrt_scale = lambda x: np.sqrt(x)\n",
    "\n",
    "cmap_flux = copy.copy(plt.get_cmap('cubehelix'))\n",
    "cmap_flux.set_bad('black')\n",
    "cmap_res = copy.copy(plt.get_cmap('RdBu_r'))"
   ]
  },
  {
   "cell_type": "markdown",
   "metadata": {},
   "source": [
    "## Generate a mock lens"
   ]
  },
  {
   "cell_type": "code",
   "execution_count": 3,
   "metadata": {},
   "outputs": [],
   "source": [
    "# data specifics\n",
    "num_pix = 100  # cutout pixel size\n",
    "delta_pix = 0.08  # pixel size in arcsec (area per pixel = deltaPix**2)\n",
    "\n",
    "background_rms = 0.1  # background noise per pixel\n",
    "exp_time = 400  # exposure time (arbitrary units, flux per pixel is in units #photons/exp_time unit)\n",
    "\n",
    "psf_error_level = 0 #0.01\n",
    "inaccurate_psf = False\n",
    "\n",
    "filename_psf_tdlmc = 'psf_tdlmc_rung0.fits'\n",
    "filename_psf_j1537_stars = 'psf_j1537_f160w_stacked_stars.fits'\n",
    "filename_psf_j1537_recon = 'psf_j1537_f160w_stacked_recon.fits'\n"
   ]
  },
  {
   "cell_type": "code",
   "execution_count": 4,
   "metadata": {},
   "outputs": [
    {
     "name": "stdout",
     "output_type": "stream",
     "text": [
      "-3.96 -3.96 49.5 49.5\n"
     ]
    }
   ],
   "source": [
    "# data specification (coordinates, etc.)\n",
    "_, _, ra_at_xy_0, dec_at_xy_0, x_at_radec_0, y_at_radec_0, Mpix2coord, _ \\\n",
    "    = lenstro_util.make_grid_with_coordtransform(numPix=num_pix, deltapix=delta_pix, subgrid_res=1, \n",
    "                                                 inverse=False, left_lower=False)\n",
    "\n",
    "print(ra_at_xy_0, dec_at_xy_0, x_at_radec_0, y_at_radec_0)\n",
    "\n",
    "kwargs_data = {\n",
    "    'background_rms': background_rms,\n",
    "    'exposure_time': exp_time,  # individual exposure time/weight per pixel\n",
    "    'ra_at_xy_0': ra_at_xy_0, 'dec_at_xy_0': dec_at_xy_0, \n",
    "    'transform_pix2angle': Mpix2coord,\n",
    "    'image_data': np.zeros((num_pix, num_pix))\n",
    "}\n",
    "data_class = ImageData(**kwargs_data)"
   ]
  },
  {
   "cell_type": "code",
   "execution_count": 5,
   "metadata": {
    "scrolled": false
   },
   "outputs": [
    {
     "name": "stdout",
     "output_type": "stream",
     "text": [
      "(61, 61) 1.0\n"
     ]
    },
    {
     "data": {
      "image/png": "[encoded data removed]",
      "text/plain": [
       "<Figure size 720x288 with 2 Axes>"
      ]
     },
     "metadata": {
      "needs_background": "light"
     },
     "output_type": "display_data"
    }
   ],
   "source": [
    "# load HST PSF kernel\n",
    "if mock_psf_type == 'hst_tinytim':\n",
    "    with pf.open(os.path.join('data', 'psf', filename_psf_tdlmc)) as f:\n",
    "        psf_kernel_hst_raw = f[0].data\n",
    "if mock_psf_type == 'hst_j1537':\n",
    "    with pf.open(os.path.join('data', 'psf', filename_psf_j1537_recon)) as f:\n",
    "        psf_kernel_hst_raw = f[0].data\n",
    "psf_num_pix = 61\n",
    "psf_kernel_hst = kernel_util.cut_psf(psf_kernel_hst_raw, psf_num_pix)\n",
    "\n",
    "# PSF specification\n",
    "if mock_psf_type in ['hst_tinytim', 'hst_j1537']:\n",
    "    print(psf_kernel_hst.shape, psf_kernel_hst.sum())\n",
    "    kwargs_psf = {\n",
    "        'psf_type': 'PIXEL', \n",
    "        'kernel_point_source': psf_kernel_hst,\n",
    "        'kernel_point_source_init': np.copy(psf_kernel_hst),\n",
    "    }\n",
    "elif mock_psf_type == 'gaussian':\n",
    "    psf_fwhm = kernel_util.fwhm_kernel(psf_kernel_hst) * delta_pix\n",
    "    print(\"estimated FWHM\", psf_fwhm)\n",
    "    psf_kernel_gauss = kernel_util.kernel_gaussian(psf_num_pix, delta_pix, psf_fwhm)\n",
    "    print(psf_kernel_gauss.shape, psf_kernel_gauss.sum())\n",
    "    kwargs_psf = {\n",
    "        'psf_type': 'PIXEL', \n",
    "        'kernel_point_source': psf_kernel_gauss,\n",
    "        'kernel_point_source_init': np.copy(psf_kernel_gauss),\n",
    "    }\n",
    "if psf_error_level > 0:\n",
    "    # set the relative level of uncertainty in PSF kernel pixels\n",
    "    psf_error_map = psf_error_level * np.ones((psf_num_pix, psf_num_pix))\n",
    "    kwargs_psf['psf_error_map'] = psf_error_map\n",
    "    \n",
    "psf_class = PSF(**kwargs_psf)\n",
    "\n",
    "fig = plt.figure(figsize=(10, 4))\n",
    "ax = plt.subplot(1, 2, 1)\n",
    "ax.set_title(\"PSF kernel\")\n",
    "im = ax.imshow(psf_class.kernel_point_source, cmap='viridis', norm=LogNorm())\n",
    "nice_colorbar(im)\n",
    "if 'psf_error_map' in kwargs_psf:\n",
    "    ax = plt.subplot(1, 2, 2)\n",
    "    ax.set_title(\"PSF error map\")\n",
    "    im = ax.imshow(psf_class.psf_error_map * psf_class.kernel_point_source, cmap='viridis', norm=LogNorm())\n",
    "    nice_colorbar(im)\n",
    "plt.show()"
   ]
  },
  {
   "cell_type": "code",
   "execution_count": 6,
   "metadata": {},
   "outputs": [
    {
     "name": "stdout",
     "output_type": "stream",
     "text": [
      "[{'ra_image': array([ 1.26694364, -1.26694364,  1.2648445 , -1.2648445 ]), 'dec_image': array([ 1.51334531, -1.51334531, -0.96141707,  0.96141707]), 'point_amp': array([340.884816  , 340.8810024 , 216.35840161, 216.3575289 ])}]\n"
     ]
    }
   ],
   "source": [
    "lens_model_list = ['SIE', 'SHEAR_GAMMA_PSI']\n",
    "kwargs_main = {'theta_E': 1.8, 'center_x': 0, 'center_y': 0, 'e1': 0.1, 'e2': -0.2}\n",
    "kwargs_shear = {'gamma_ext': 0.05, 'psi_ext': 0.5, 'ra_0': kwargs_main['center_x'], 'dec_0': kwargs_main['center_y']}\n",
    "kwargs_lens = [kwargs_main, kwargs_shear]\n",
    "lens_model_class = LensModel(lens_model_list=lens_model_list)\n",
    "\n",
    "# list of source light profiles\n",
    "# get an pre-processed source galaxy from galsim\n",
    "galsim_index = 31\n",
    "snr = 500\n",
    "galsim_data_path = ('/Users/aymericg/Documents/EPFL/PhD_LASTRO/Code' +\n",
    "                    '/Lens_modelling/gravlensgen/Simulations/ring_sims' +\n",
    "                    '/sims_SNR{}/simring_galsim{}_all.pkl'.format(snr, galsim_index))\n",
    "[data, truth, lens_model] = pkl.load(open(galsim_data_path, 'rb'))\n",
    "galsim_source_highres = truth['source_galsim_3']\n",
    "galsim_num_pix = data['num_pix']\n",
    "galsim_delta_pix = data['delta_pix']\n",
    "source_model_list = ['INTERPOL']\n",
    "scale = galsim_delta_pix/4  # galsim_delta_pix/3\n",
    "#kwargs_interpol_source = {'image': galsim_source_highres, 'amp': 3000, 'center_x': +0.3, 'center_y': -0.1, 'phi_G': 0, \n",
    "#                          'scale': scale}\n",
    "kwargs_interpol_source = {'image': galsim_source_highres, 'amp': 3000, 'center_x': 0, 'center_y': 0, 'phi_G': 0, \n",
    "                          'scale': scale}\n",
    "kwargs_source = [kwargs_interpol_source]\n",
    "source_model_class = LightModel(light_model_list=source_model_list)\n",
    "\n",
    "# list of lens light profiles\n",
    "lens_light_model_list = []\n",
    "kwargs_lens_light = [{}]\n",
    "lens_light_model_class = LightModel(light_model_list=lens_light_model_list)\n",
    "\n",
    "# add point sources : solve lens equation from source position to find images\n",
    "lensEquationSolver = LensEquationSolver(lens_model_class)\n",
    "x_image, y_image = lensEquationSolver.findBrightImage(kwargs_source[0]['center_x'], \n",
    "                                                      kwargs_source[0]['center_y'], \n",
    "                                                      kwargs_lens, numImages=4,\n",
    "                                                      min_distance=delta_pix, \n",
    "                                                      search_window=num_pix*delta_pix)\n",
    "mag = lens_model_class.magnification(x_image, y_image, kwargs=kwargs_lens)\n",
    "mag_factor = 100\n",
    "kwargs_ps = [{'ra_image': x_image, 'dec_image': y_image,\n",
    "              'point_amp': mag_factor*np.abs(mag)}]\n",
    "num_ps = len(kwargs_ps[0]['point_amp'])\n",
    "print(kwargs_ps)\n",
    "\n",
    "kwargs_special = {}\n",
    "\n",
    "point_source_list = ['LENSED_POSITION']\n",
    "point_source_class = PointSource(point_source_type_list=point_source_list, fixed_magnification_list=[False])"
   ]
  },
  {
   "cell_type": "code",
   "execution_count": 7,
   "metadata": {
    "scrolled": false
   },
   "outputs": [
    {
     "data": {
      "image/png": "[encoded data removed]",
      "text/plain": [
       "<Figure size 432x288 with 2 Axes>"
      ]
     },
     "metadata": {
      "needs_background": "light"
     },
     "output_type": "display_data"
    }
   ],
   "source": [
    "kwargs_numerics = {'supersampling_factor': 1, 'supersampling_convolution': False}\n",
    "\n",
    "# get the simalated lens image (i.e. image plane)\n",
    "# using ImageLinearFit instead of ImageModel in order to access the full noise map (including PS error maps)\n",
    "imageModel = ImageLinearFit(data_class, psf_class, lens_model_class, source_model_class, \n",
    "                            lens_light_model_class, point_source_class=point_source_class, \n",
    "                            kwargs_numerics=kwargs_numerics)\n",
    "\n",
    "image_sim_no_noise = imageModel.image(kwargs_lens, kwargs_source, kwargs_lens_light, kwargs_ps)\n",
    "\n",
    "bkg = image_util.add_background(image_sim_no_noise, sigma_bkd=background_rms)\n",
    "poisson = image_util.add_poisson(image_sim_no_noise, exp_time=exp_time)\n",
    "noise = bkg + poisson\n",
    "image_sim = image_sim_no_noise + noise\n",
    "image_sim_1d = lenstro_util.image2array(image_sim)\n",
    "\n",
    "# update classes with the newly simulated image\n",
    "kwargs_data['image_data'] = image_sim\n",
    "if kwargs_data.get('exposure_time', None) is None:\n",
    "    kwargs_data['noise_map'] = background_rms * np.ones_like(image_sim)\n",
    "data_class = ImageData(**kwargs_data)\n",
    "\n",
    "imageModel = ImageLinearFit(data_class, psf_class, lens_model_class, source_model_class, \n",
    "                            lens_light_model_class, point_source_class=point_source_class, \n",
    "                            kwargs_numerics=kwargs_numerics)\n",
    "\n",
    "# access full effective noise map\n",
    "C_D_matrix, _ = imageModel.error_response(kwargs_lens, kwargs_ps, kwargs_special)\n",
    "effective_noise_map = np.sqrt(imageModel.array_masked2image(C_D_matrix))\n",
    "\n",
    "plt.title(\"effective noise map\")\n",
    "im = plt.imshow(effective_noise_map)\n",
    "nice_colorbar(im)\n",
    "plt.show()"
   ]
  },
  {
   "cell_type": "code",
   "execution_count": 8,
   "metadata": {},
   "outputs": [],
   "source": [
    "# get the light distribution in source plane\n",
    "source_sim = imageModel.source_surface_brightness(kwargs_source, unconvolved=True, de_lensed=True)\n",
    "source_sim_1d = lenstro_util.image2array(source_sim)\n",
    "\n",
    "# get the light distribution in source plane convolved\n",
    "source_sim_conv = imageModel.source_surface_brightness(kwargs_source, unconvolved=False, de_lensed=True)\n",
    "source_sim_1d_conv = lenstro_util.image2array(source_sim)\n",
    "\n",
    "# get the true light distribution in source plane on high res grid\n",
    "ra_grid_hd, dec_grid_hd = lenstro_util.make_grid(numPix=num_pix, deltapix=delta_pix,\n",
    "                                                 subgrid_res=subgrid_res_source)\n",
    "source_sim_hd = source_model_class.surface_brightness(ra_grid_hd, dec_grid_hd, kwargs_source)\n",
    "source_sim_hd = lenstro_util.array2image(source_sim_hd)\n",
    "source_sim_hd *= (delta_pix/subgrid_res_source)**2  # unit conversion\n",
    "source_sim_hd *= subgrid_res_source**2  # pixel area ratio\n",
    "    \n",
    "# get the point source model, for initial guess\n",
    "init_ps_model = imageModel.point_source(kwargs_ps)"
   ]
  },
  {
   "cell_type": "markdown",
   "metadata": {},
   "source": [
    "#### Some quantities to model with MOLET"
   ]
  },
  {
   "cell_type": "code",
   "execution_count": 9,
   "metadata": {},
   "outputs": [
    {
     "name": "stdout",
     "output_type": "stream",
     "text": [
      "simring_galsim31_all.pkl\n",
      "phi, q: -31.717474411461005 0.6345120047368864\n",
      "shear phi, gamma: -61.35211024345884 0.05\n",
      "lower-left corner (-3.96, -3.96)\n",
      "source number of pixels on a side: 297\n",
      "source scale: 0.02\n",
      "source cutout: 0.9899999999999998 6.93 0.9899999999999998 6.93\n",
      "M_tot -8.378798929803885\n"
     ]
    }
   ],
   "source": [
    "print(os.path.basename(galsim_data_path))\n",
    "phi, q = param_util.ellipticity2phi_q(kwargs_main['e1'], kwargs_main['e2'])\n",
    "print(\"phi, q:\", phi*180./np.pi, q)\n",
    "diff_angle = -90  # difference in degrees in shear orientation between lenstronomy and MOLET\n",
    "print(\"shear phi, gamma:\", kwargs_shear['psi_ext']*180./np.pi + diff_angle, kwargs_shear['gamma_ext'])\n",
    "radec0 = data_class.radec_at_xy_0\n",
    "print(\"lower-left corner\", radec0)\n",
    "print(\"source number of pixels on a side:\", len(galsim_source_highres))\n",
    "print(\"source scale:\", kwargs_interpol_source['scale'])\n",
    "xmin = kwargs_interpol_source['center_x']-kwargs_interpol_source['scale']*len(galsim_source_highres)/2.-radec0[0]\n",
    "xmax = kwargs_interpol_source['center_x']+kwargs_interpol_source['scale']*len(galsim_source_highres)/2.-radec0[0]\n",
    "ymin = kwargs_interpol_source['center_y']-kwargs_interpol_source['scale']*len(galsim_source_highres)/2.-radec0[1]\n",
    "ymax = kwargs_interpol_source['center_y']+kwargs_interpol_source['scale']*len(galsim_source_highres)/2.-radec0[1]\n",
    "print(\"source cutout:\", xmin, xmax, ymin, ymax)\n",
    "F_tot = kwargs_interpol_source['amp']*np.sum(kwargs_interpol_source['image'])*delta_pix**2\n",
    "print(\"M_tot\", -2.5*np.log10(F_tot))\n",
    "\n",
    "#plt.imshow(image_sim_no_noise, norm=LogNorm(), extent=[0, num_pix*delta_pix, 0, num_pix*delta_pix])\n",
    "#plt.scatter([xmin, xmax], [ymin, ymax])\n",
    "#plt.xlim(0, num_pix*delta_pix)\n",
    "#plt.ylim(0, num_pix*delta_pix)\n",
    "#plt.show()"
   ]
  },
  {
   "cell_type": "markdown",
   "metadata": {},
   "source": [
    "## Visualize the lens & true source"
   ]
  },
  {
   "cell_type": "code",
   "execution_count": 10,
   "metadata": {},
   "outputs": [],
   "source": [
    "# compute critical lines and caustics\n",
    "lensModelExt = LensModelExtensions(lens_model_class)\n",
    "ra_crit_list, dec_crit_list = lensModelExt.critical_curve_tiling(kwargs_lens,\n",
    "                                                                 compute_window=num_pix*delta_pix,\n",
    "                                                                 start_scale=delta_pix / 5.,\n",
    "                                                                 max_order=10)\n",
    "ra_caustic_list, dec_caustic_list = lens_model_class.ray_shooting(ra_crit_list, dec_crit_list,\n",
    "                                                                  kwargs_lens)"
   ]
  },
  {
   "cell_type": "code",
   "execution_count": 11,
   "metadata": {},
   "outputs": [],
   "source": [
    "center_ps_x, center_ps_y = data_class.map_coord2pix(kwargs_source[0]['center_x'], kwargs_source[0]['center_y'])\n",
    "center_ps_x, center_ps_y = (center_ps_x+0.5)*delta_pix, (center_ps_y+0.5)*delta_pix"
   ]
  },
  {
   "cell_type": "code",
   "execution_count": 12,
   "metadata": {
    "scrolled": false
   },
   "outputs": [
    {
     "data": {
      "image/png": "[encoded data removed]",
      "text/plain": [
       "<Figure size 1008x252 with 6 Axes>"
      ]
     },
     "metadata": {
      "needs_background": "light"
     },
     "output_type": "display_data"
    }
   ],
   "source": [
    "extent = [0, num_pix*delta_pix, 0, num_pix*delta_pix]\n",
    "\n",
    "fig = plt.figure(figsize=(14, 3.5))\n",
    "\n",
    "ax = plt.subplot2grid((1, 3), (0, 0))\n",
    "ax.set_title(\"source plane, supersampled\")\n",
    "ax.set_xlabel(\"arcsec\")\n",
    "ax.set_ylabel(\"arcsec\")\n",
    "im = ax.imshow(source_sim_hd, cmap=cmap_flux, norm=LogNorm(1e-2), extent=extent)\n",
    "ax.scatter(center_ps_x, center_ps_y, c='red', s=50, marker='x', linewidth=1)\n",
    "plot_util.plot_line_set(ax, data_class, ra_caustic_list, dec_caustic_list, color='white') #, shift=delta_pix/2.)\n",
    "nice_colorbar(im)\n",
    "ax.set_xlim(2, 6)\n",
    "ax.set_ylim(2, 6)\n",
    "\n",
    "ax = plt.subplot2grid((1, 3), (0, 1), fig=fig)\n",
    "ax.set_title(\"image plane, convolved\")\n",
    "im = ax.imshow(image_sim, cmap=cmap_flux, norm=LogNorm(1e-2), extent=extent)\n",
    "#plot_util.plot_line_set(ax, data_class, ra_crit_list, dec_crit_list, color='white', shift=0)\n",
    "nice_colorbar(im)\n",
    "\n",
    "ax = plt.subplot2grid((1, 3), (0, 2))\n",
    "ax.set_title(\"source plane, unconvolved\")\n",
    "plot_util.plot_line_set(ax, data_class, ra_crit_list, dec_crit_list, color='black') #, shift=delta_pix/2.)\n",
    "plot_util.plot_line_set(ax, data_class, ra_caustic_list, dec_caustic_list, color='red') #, shift=delta_pix/2.)\n",
    "ax.scatter(center_ps_x, center_ps_y, c='green', s=30, marker='x', linewidth=1)\n",
    "nice_colorbar(im)\n",
    "ax.set_xlim(extent[0], extent[1])\n",
    "ax.set_ylim(extent[2], extent[3])\n",
    "ax.set_aspect('equal')\n",
    "ax.set_xlim(2, 6)\n",
    "ax.set_ylim(2, 6)\n",
    "\n",
    "plt.show()\n",
    "\n",
    "\n",
    "# save in fits file for comparison with MOLET\n",
    "pf.writeto('../molet/lenstronomy_mock.fits', image_sim, overwrite=True)"
   ]
  },
  {
   "cell_type": "code",
   "execution_count": 13,
   "metadata": {},
   "outputs": [
    {
     "ename": "RuntimeError",
     "evalue": "No active exception to reraise",
     "output_type": "error",
     "traceback": [
      "\u001b[0;31m---------------------------------------------------------------------------\u001b[0m",
      "\u001b[0;31mRuntimeError\u001b[0m                              Traceback (most recent call last)",
      "\u001b[0;32m<ipython-input-13-9c9a2cba73bf>\u001b[0m in \u001b[0;36m<module>\u001b[0;34m\u001b[0m\n\u001b[0;32m----> 1\u001b[0;31m \u001b[0;32mraise\u001b[0m\u001b[0;34m\u001b[0m\u001b[0;34m\u001b[0m\u001b[0m\n\u001b[0m",
      "\u001b[0;31mRuntimeError\u001b[0m: No active exception to reraise"
     ]
    }
   ],
   "source": [
    "raise"
   ]
  },
  {
   "cell_type": "markdown",
   "metadata": {},
   "source": [
    "## Sparse optimizazion to reconstruct the source light"
   ]
  },
  {
   "cell_type": "markdown",
   "metadata": {},
   "source": [
    "#### Alter the PSF kernel to test the robustness of the reconstruction"
   ]
  },
  {
   "cell_type": "code",
   "execution_count": null,
   "metadata": {},
   "outputs": [],
   "source": [
    "kwargs_ps_sparsefit = copy.deepcopy(kwargs_ps)\n",
    "\n",
    "# disturb initial amplitudes w.r.t. truth\n",
    "#kwargs_ps_sparsefit[0]['point_amp'] += 20 * np.random.randn(num_ps)\n",
    "\n",
    "# increase central value of the PSF kernel to fake bad modelling\n",
    "psf_class_sparsefit = copy.deepcopy(psf_class)\n",
    "if inaccurate_psf is True:\n",
    "    # here we alter some pixels of the PSF kernel to mimick a bad PSF model\n",
    "    if mock_psf_type in ['gaussian', 'hst_tinytim']:\n",
    "        # in this case we alter the central pixel value\n",
    "        original_kernel = psf_class.kernel_point_source\n",
    "        altered_psf_kernel = np.copy(original_kernel)\n",
    "        altered_psf_kernel[psf_num_pix//2, psf_num_pix//2] *= 0.5\n",
    "        altered_psf_kernel /= altered_psf_kernel.sum()  # make sure kernel is normnalised\n",
    "        \n",
    "    elif mock_psf_type == 'hst_j1537':\n",
    "        # in the case we replace the PSF kernel with the real (inaccurate) model from J1537\n",
    "        with pf.open(os.path.join('data', 'psf', filename_psf_j1537_stars)) as f:\n",
    "            altered_psf_kernel = f[0].data\n",
    "            \n",
    "    # we force the PSF kernel to change (TODO: not ideal as it is a private attribute...)\n",
    "    print(\"check norm\", altered_psf_kernel.sum())\n",
    "    psf_class_sparsefit._kernel_point_source = altered_psf_kernel\n",
    "\n",
    "\n",
    "    # here we juste recreate a ImageModel object with the PSF class containing the altered PSF\n",
    "    imageModel_alt = ImageModel(data_class, psf_class_sparsefit, lens_model_class, source_model_class, \n",
    "                                lens_light_model_class, point_source_class=point_source_class, \n",
    "                                kwargs_numerics=kwargs_numerics)\n",
    "    fig, axes = plt.subplots(1, 2, figsize=(8, 3.5))\n",
    "    ax = axes[0]\n",
    "    ax.set_title(\"Data $-$ (inaccurate) point sources\")\n",
    "    ax.imshow(data_class.data - imageModel_alt.point_source(kwargs_ps_sparsefit), \n",
    "               cmap=cmap_flux, norm=LogNorm(1e-2, 1e2))\n",
    "    ax = axes[1]\n",
    "    ax.set_title(\"Normalized residuals\")\n",
    "    ax.imshow((imageModel_alt.image(kwargs_lens=kwargs_lens, kwargs_source=kwargs_source, \n",
    "                                kwargs_ps=kwargs_ps_sparsefit, lens_light_add=False) - data_class.data) / effective_noise_map, \n",
    "               cmap=cmap_res, vmin=-5, vmax=5)\n",
    "    plt.show()"
   ]
  },
  {
   "cell_type": "code",
   "execution_count": null,
   "metadata": {
    "scrolled": false
   },
   "outputs": [],
   "source": [
    "source_model_list_sparsefit = ['SLIT_STARLETS']\n",
    "kwargs_starlets_source = {\n",
    "    'n_scales': 6, \n",
    "    'n_pix_x': image_sim.shape[0]*subgrid_res_source,\n",
    "    'n_pix_y': image_sim.shape[1]*subgrid_res_source,\n",
    "}\n",
    "kwargs_source_sparsefit = [kwargs_starlets_source]\n",
    "source_model_class_sparsefit = LightModel(light_model_list=source_model_list_sparsefit)\n",
    "\n",
    "# TEST: displace PS positions\n",
    "#kwargs_ps_sparsefit[0]['ra_image'] += delta_pix/10. * np.random.randn(num_ps)\n",
    "#kwargs_ps_sparsefit[0]['dec_image'] += delta_pix/10. * np.random.randn(num_ps)\n",
    "\n",
    "kwargs_special_sparsefit = {\n",
    "    'delta_x_source_grid': 0,\n",
    "    'delta_y_source_grid': 0,\n",
    "}\n",
    "\n",
    "likelihood_mask = ImageMask(image_sim.shape, delta_pix, mask_type='circle',\n",
    "                            center_list=[None], radius_list=[3.5]).get_mask(show_details=False)\n",
    "\n",
    "kwargs_pixelbased = {\n",
    "    # point-source related settings\n",
    "    'fix_point_source_model': True,\n",
    "    'include_point_source_error': True,\n",
    "    'filter_point_source_residuals': inaccurate_psf,\n",
    "    'min_scale_point_source_residuals': 2,\n",
    "    'radius_point_source_residuals': 0.3,\n",
    "    'check_point_source_residuals': True,\n",
    "    \n",
    "    # other settings\n",
    "    'supersampling_factor_source': subgrid_res_source,\n",
    "    'minimal_source_plane': True,\n",
    "    'min_threshold': 3,\n",
    "    'threshold_increment_high_freq': 2,\n",
    "    'num_iter_source': 50,\n",
    "    'num_iter_global': 5,\n",
    "    'num_iter_weights': 2,\n",
    "    'verbose': False,\n",
    "    'show_steps': False,\n",
    "    'thread_count': 8,\n",
    "}\n",
    "\n",
    "imageSparseFit = ImageLinearFit(data_class, psf_class=psf_class_sparsefit, \n",
    "                                lens_model_class=lens_model_class,\n",
    "                                source_model_class=source_model_class_sparsefit,\n",
    "                                point_source_class=point_source_class,\n",
    "                                likelihood_mask=likelihood_mask,\n",
    "                                kwargs_pixelbased=kwargs_pixelbased)\n"
   ]
  },
  {
   "cell_type": "code",
   "execution_count": null,
   "metadata": {
    "scrolled": false
   },
   "outputs": [],
   "source": [
    "print(\"Before optimisation:\")\n",
    "print(\"truth\", kwargs_ps[0]['point_amp'])\n",
    "print(\"model\", kwargs_ps_sparsefit[0]['point_amp'])\n",
    "print(\"RMS error\", np.sum((kwargs_ps[0]['point_amp'] - kwargs_ps_sparsefit[0]['point_amp'])**2) / num_ps)"
   ]
  },
  {
   "cell_type": "code",
   "execution_count": null,
   "metadata": {
    "scrolled": false
   },
   "outputs": [],
   "source": [
    "start_time = time.time()\n",
    "model, _, _, param = imageSparseFit.image_pixelbased_solve(copy.deepcopy(kwargs_lens), \n",
    "                                                       kwargs_source=kwargs_source_sparsefit,\n",
    "                                                       kwargs_lens_light=None,\n",
    "                                                       kwargs_ps=kwargs_ps_sparsefit,\n",
    "                                                       kwargs_special=kwargs_special_sparsefit)\n",
    "end_time = time.time()\n",
    "print(\"Runtime : {:.3f} s\".format(end_time-start_time))"
   ]
  },
  {
   "cell_type": "code",
   "execution_count": null,
   "metadata": {},
   "outputs": [],
   "source": [
    "print(\"After optimisation:\")\n",
    "print(\"truth\", kwargs_ps[0]['point_amp'])\n",
    "print(\"model\", kwargs_ps_sparsefit[0]['point_amp'])\n",
    "print(\"RMS error\", np.sum((kwargs_ps[0]['point_amp'] - kwargs_ps_sparsefit[0]['point_amp'])**2) / num_ps)"
   ]
  },
  {
   "cell_type": "markdown",
   "metadata": {},
   "source": [
    "## Plot optimization summary"
   ]
  },
  {
   "cell_type": "code",
   "execution_count": null,
   "metadata": {
    "scrolled": false
   },
   "outputs": [],
   "source": [
    "sparseSolver = imageSparseFit.PixelSolver\n",
    "#lensingOperator = imageSparseFit.lensingOperator\n",
    "\n",
    "fig = sparseSolver.plot_results(log_scale=True, vmin_res=-5, vmax_res=5, \n",
    "                                point_source_add=True,\n",
    "                                cmap_image=cmap_flux, cmap_source=cmap_flux,\n",
    "                                vmin_image=1e-1, vmin_source=1e-1,\n",
    "                                vmax_image=1e1, vmax_source=1e1)"
   ]
  },
  {
   "cell_type": "markdown",
   "metadata": {},
   "source": [
    "## Plot residuals in source plane"
   ]
  },
  {
   "cell_type": "code",
   "execution_count": null,
   "metadata": {},
   "outputs": [],
   "source": [
    "# get source reconstructions\n",
    "source_estimate = imageSparseFit.source_surface_brightness(kwargs_source_sparsefit, \n",
    "                                                           kwargs_lens=None, \n",
    "                                                           unconvolved=True, \n",
    "                                                           de_lensed=True)\n",
    "\n",
    "#ra_grid_hd, dec_grid_hd = sparseSolver.lensingOperator.sourcePlane.grid()\n",
    "source_estimate_hd = source_model_class_sparsefit.surface_brightness(ra_grid_hd, dec_grid_hd, kwargs_source_sparsefit)\n",
    "source_estimate_hd = lenstro_util.array2image(source_estimate_hd)"
   ]
  },
  {
   "cell_type": "code",
   "execution_count": null,
   "metadata": {
    "scrolled": false
   },
   "outputs": [],
   "source": [
    "from metrics import SDR, QOR\n",
    "print(\"SDR =\", SDR(source_sim, source_estimate))\n",
    "print(\"SDR (restricted) =\", SDR(source_sim[33:63, 38:68], source_estimate[33:63, 38:68]))\n",
    "print(\"SDR (HD, restricted) =\", SDR(source_sim_hd[66:126, 76:136], source_estimate_hd[66:126, 76:136]))\n",
    "#plt.imshow(source_sim_hd[66:126, 76:136], origin='lower')\n",
    "\n",
    "print(\"QOR =\", QOR(image_sim, sparseSolver.image_model(), np.sqrt(data_class.C_D)))\n",
    "\n",
    "print(source_sim.max(), source_estimate.max(), source_sim_hd.max(), source_estimate_hd.max())\n",
    "cut_level = 0.5\n",
    "cut_level_hd = 0.5\n",
    "\n",
    "residuals_source = source_estimate - source_sim\n",
    "residuals_source_hd = source_estimate_hd - source_sim_hd\n",
    "\n",
    "fig, axes = plt.subplots(2, 3, figsize=(15, 10))\n",
    "\n",
    "ax = axes[0, 0]\n",
    "ax.set_title(\"reconstructed source (unconvolved)\")\n",
    "im = ax.imshow(source_estimate, origin='lower', cmap=cmap_flux, norm=LogNorm(3e-2))\n",
    "ax.set_xlim(len(source_sim)/4, 3*len(source_sim)/4)\n",
    "ax.set_ylim(len(source_sim)/4, 3*len(source_sim)/4)\n",
    "nice_colorbar(im)\n",
    "ax = axes[0, 1]\n",
    "ax.set_title(\"true source (unconvolved)\")\n",
    "im = ax.imshow(source_sim, origin='lower', cmap=cmap_flux, norm=LogNorm(3e-2))\n",
    "ax.set_xlim(len(source_sim)/4, 3*len(source_sim)/4)\n",
    "ax.set_ylim(len(source_sim)/4, 3*len(source_sim)/4)\n",
    "nice_colorbar(im)\n",
    "ax = axes[0, 2]\n",
    "ax.set_title(\"model - truth (unconvolved)\")\n",
    "ax.set_xlim(len(source_sim)/4, 3*len(source_sim)/4)\n",
    "ax.set_ylim(len(source_sim)/4, 3*len(source_sim)/4)\n",
    "im = ax.imshow(residuals_source, origin='lower', cmap='RdBu_r', vmin=-cut_level, vmax=cut_level)\n",
    "nice_colorbar(im)\n",
    "\n",
    "ax = axes[1, 0]\n",
    "ax.set_title(\"reconstructed source (HD, unconvolved)\")\n",
    "im = ax.imshow(source_estimate_hd, origin='lower', cmap=cmap_flux, norm=LogNorm(3e-2))\n",
    "ax.set_xlim(len(source_estimate_hd)/4, 3*len(source_estimate_hd)/4)\n",
    "ax.set_ylim(len(source_estimate_hd)/4, 3*len(source_estimate_hd)/4)\n",
    "nice_colorbar(im)\n",
    "ax = axes[1, 1]\n",
    "ax.set_title(\"true source (HD, unconvolved)\")\n",
    "im = ax.imshow(source_sim_hd, origin='lower', cmap=cmap_flux, norm=LogNorm(3e-2))\n",
    "ax.set_xlim(len(source_sim_hd)/4, 3*len(source_sim_hd)/4)\n",
    "ax.set_ylim(len(source_sim_hd)/4, 3*len(source_sim_hd)/4)\n",
    "nice_colorbar(im)\n",
    "ax = axes[1, 2]\n",
    "ax.set_title(\"model - truth (HD, unconvolved)\")\n",
    "ax.set_xlim(len(source_sim_hd)/4, 3*len(source_sim_hd)/4)\n",
    "ax.set_ylim(len(source_sim_hd)/4, 3*len(source_sim_hd)/4)\n",
    "im = ax.imshow(residuals_source_hd, origin='lower', cmap='RdBu_r', vmin=-cut_level_hd, vmax=cut_level_hd)\n",
    "nice_colorbar(im)\n",
    "\n",
    "plt.show()"
   ]
  },
  {
   "cell_type": "code",
   "execution_count": null,
   "metadata": {},
   "outputs": [],
   "source": []
  }
 ],
 "metadata": {
  "kernelspec": {
   "display_name": "Pystro3.6",
   "language": "python",
   "name": "pystro3.6"
  },
  "language_info": {
   "codemirror_mode": {
    "name": "ipython",
    "version": 3
   },
   "file_extension": ".py",
   "mimetype": "text/x-python",
   "name": "python",
   "nbconvert_exporter": "python",
   "pygments_lexer": "ipython3",
   "version": "3.6.8"
  }
 },
 "nbformat": 4,
 "nbformat_minor": 1
}
